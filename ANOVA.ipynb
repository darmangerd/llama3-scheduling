{
 "cells": [
  {
   "cell_type": "markdown",
   "metadata": {},
   "source": [
    "### Environment Setup\n",
    "This section installs all the necessary dependencies required for the notebook. These libraries include tools for natural language processing, dataset management, and statistical analysis. If you already have a compatible environment, you can skip this step."
   ]
  },
  {
   "cell_type": "code",
   "execution_count": null,
   "metadata": {},
   "outputs": [],
   "source": [
    "# Install dependencies (same as the env file, so you may wish to skip this if running locally / with persistent conda environment)\n",
    "%pip install transformers\n",
    "%pip install accelerate\n",
    "%pip install bitsandbytes\n",
    "%pip install pyDOE3\n",
    "%pip install datasets\n",
    "%pip install torch\n",
    "%pip install jinja2\n",
    "%pip install torchmetrics\n",
    "%pip install tqdm\n",
    "%pip install jupyter\n",
    "%pip install pretty-jupyter\n",
    "%pip install researchpy\n",
    "%pip install statsmodels\n",
    "%pip install matplotlib\n",
    "%pip install seaborn"
   ]
  },
  {
   "cell_type": "markdown",
   "metadata": {},
   "source": [
    "### Library Imports\n",
    "Here, we import the essential Python libraries and modules that will be used throughout the notebook. These include:\n",
    "- `transformers` and `datasets` for natural language processing tasks.\n",
    "- `pyDOE3` for design of experiments.\n",
    "- `torchmetrics` for evaluation metrics.\n",
    "- `jinja2` for templating.\n",
    "- `statsmodels` for statistical modeling."
   ]
  },
  {
   "cell_type": "code",
   "execution_count": null,
   "metadata": {},
   "outputs": [],
   "source": [
    "import pandas as pd\n",
    "import csv\n",
    "import tqdm\n",
    "import time\n",
    "import os\n",
    "import jinja2\n",
    "import textwrap\n",
    "import datasets\n",
    "\n",
    "from transformers import pipeline, AutoTokenizer, AutoModelForCausalLM, BitsAndBytesConfig\n",
    "from datasets import load_dataset\n",
    "from torch.utils.data import DataLoader\n",
    "from pyDOE3 import *\n",
    "from torchmetrics.text.rouge import ROUGEScore\n",
    "\n",
    "import statsmodels.api as sm\n",
    "from statsmodels.formula.api import ols\n"
   ]
  }
 ],
 "metadata": {
  "kernelspec": {
   "display_name": ".venv",
   "language": "python",
   "name": "python3"
  },
  "language_info": {
   "name": "python",
   "version": "3.12.6"
  }
 },
 "nbformat": 4,
 "nbformat_minor": 2
}
